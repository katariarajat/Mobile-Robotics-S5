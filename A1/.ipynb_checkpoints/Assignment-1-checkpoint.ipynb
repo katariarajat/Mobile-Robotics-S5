{
 "cells": [
  {
   "cell_type": "markdown",
   "id": "526295a9",
   "metadata": {},
   "source": [
    "# Assignment-1: Transformations and representations\n",
    "\n",
    "Team Name: Doraemon\n",
    "\n",
    "Roll number: 2019101020 2019101105"
   ]
  },
  {
   "cell_type": "markdown",
   "id": "bf90ec13",
   "metadata": {},
   "source": [
    "# Instructions\n",
    "\n",
    "- Code must be written in Python in Jupyter Notebooks. We highly recommend using anaconda distribution or at the minimum, virtual environments for this assignment. See `Set Up` for detailed step-by-step instructions about the installation setup.\n",
    "- Save all your results in ```results/<question_number>/<sub_topic_number>/```\n",
    "- The **References** section provides you with important resources to solve the assignment.\n",
    "- For this assignment, you will be using Open3D extensively. Refer to [Open3D Documentation](http://www.open3d.org/docs/release/): you can use the in-built methods and **unless explicitly mentioned**, don't need to code from scratch for this assignment. \n",
    "- Make sure your code is modular since you may need to reuse parts for future assignments.\n",
    "- Answer the descriptive questions in your own words with context & clarity. Do not copy answers from online resources or lecture notes.\n",
    "- The **deadline** for this assignment is on 11/09/2021 at 11:55pm. Please note that there will be no extensions.\n",
    "- Plagiarism is **strictly prohibited**.\n"
   ]
  },
  {
   "cell_type": "markdown",
   "id": "9db0c441",
   "metadata": {},
   "source": [
    "# Submission Instructions\n",
    "\n",
    "1. Make sure your code runs without any errors after reinitializing the kernel and removing all saved variables.\n",
    "2. After completing your code and saving your results, zip the folder with name as ``Team_<team_name>_MR2021_Assignment_<assignment_number>.zip``"
   ]
  },
  {
   "cell_type": "markdown",
   "id": "3cd87f0a",
   "metadata": {},
   "source": [
    "# Set Up\n",
    "\n",
    "We highly recommend using anaconda distribution or at the minimum, virtual environments for this assignment. All assignments will be python based, hence familiarising yourself with Python is essential.\n"
   ]
  },
  {
   "cell_type": "markdown",
   "id": "7346caa7",
   "metadata": {},
   "source": [
    "## Setting up Anaconda environment (Recommended)\n",
    "\n",
    "1. Install Anaconda or Miniconda from [here](https://docs.conda.io/projects/conda/en/latest/user-guide/install/linux.html) depending on your requirements.\n",
    "2. Now simply run `conda env create -f environment.yml` in the current folder to create an environment `mr_assignment1` (`environment.yml` can be found in `misc/`).\n",
    "3. Activate it using `conda activate mr_assignment1`.\n",
    "\n",
    "## Setting up Virtual environment using venv\n",
    "\n",
    "You can also set up a virtual environment using venv\n",
    "\n",
    "1. Run `sudo apt-get install python3-venv` from command line.\n",
    "2. `python3 -m venv ~/virtual_env/mr_assignment1`. (you can set the environment path to anything)\n",
    "3. `source ~/virtual_env/mr_assignment1/bin/activate`\n",
    "4. `pip3 install -r requirements.txt` from the current folder (`requirements.txt` can be found in `misc/`)."
   ]
  },
  {
   "cell_type": "code",
   "execution_count": null,
   "id": "cac2768d",
   "metadata": {},
   "outputs": [],
   "source": [
    "import open3d as o3d\n",
    "import numpy as np\n",
    "import copy\n",
    "import os\n",
    "from scipy.optimize import fsolve"
   ]
  },
  {
   "cell_type": "code",
   "execution_count": null,
   "id": "6a9998a7",
   "metadata": {},
   "outputs": [],
   "source": [
    "def create_directory(directory):\n",
    "    if not os.path.exists(directory):\n",
    "        os.makedirs(directory)"
   ]
  },
  {
   "cell_type": "markdown",
   "id": "fd003924",
   "metadata": {},
   "source": [
    "# 1. Getting started with Open3D\n",
    "\n",
    "Open3D is an open-source library that deals with 3D data, such as point clouds, mesh. We'll be using Open3D frequently as we work with point clouds. Let's start with something simple:\n",
    "\n",
    "<img src=\"misc/bunny.jpg\" alt=\"drawing\" width=\"200\"/>\n",
    "\n",
    "1. Read the Stanford Bunny file (in `data/`) given to you and visualise it using Open3D.\n",
    "2. Convert the mesh to a point cloud and change the colour of points.\n",
    "3. Set a predefined viewing angle (using Open3D) for visualization and display the axes while plotting.\n",
    "4. Scale, Transform, and Rotate the rabbit (visualise after each step).\n",
    "5. Save the point cloud as bunny.pcd."
   ]
  },
  {
   "cell_type": "markdown",
   "id": "c20a7a2d",
   "metadata": {},
   "source": [
    "## Reading the Bunny File"
   ]
  },
  {
   "cell_type": "code",
   "execution_count": null,
   "id": "92482401",
   "metadata": {},
   "outputs": [],
   "source": [
    "mesh = o3d.io.read_triangle_mesh(\"data/bunny.ply\")\n",
    "mesh.compute_vertex_normals()\n",
    "o3d.visualization.draw_geometries([mesh])\n"
   ]
  },
  {
   "cell_type": "markdown",
   "id": "e40917ca",
   "metadata": {},
   "source": [
    "## Convering the Mesh to a Point Cloud"
   ]
  },
  {
   "cell_type": "code",
   "execution_count": null,
   "id": "02e9c0e4",
   "metadata": {},
   "outputs": [],
   "source": [
    "pcd = mesh.sample_points_uniformly(number_of_points=2500)\n",
    "o3d.visualization.draw_geometries([pcd])\n",
    "pcd.paint_uniform_color([1, 0.706, 0])\n",
    "o3d.visualization.draw_geometries([pcd])\n"
   ]
  },
  {
   "cell_type": "markdown",
   "id": "b6f30b4a",
   "metadata": {},
   "source": [
    "## Display Axes and Setting the Viewing Angle"
   ]
  },
  {
   "cell_type": "code",
   "execution_count": null,
   "id": "9e39b66d",
   "metadata": {},
   "outputs": [],
   "source": [
    "mesh_frame = o3d.geometry.TriangleMesh.create_coordinate_frame(\n",
    "    size=0.05, origin=[0, 0, 0]\n",
    ")\n",
    "o3d.visualization.draw_geometries(\n",
    "    [mesh_frame, pcd],\n",
    "    zoom=0.455,\n",
    "    front=[1.0, 0.0, 0.0],\n",
    "    lookat=[0.0, 0.0, 0.0],\n",
    "    up=[0.0, 1.0, 0.0],\n",
    ")\n"
   ]
  },
  {
   "cell_type": "markdown",
   "id": "8a682cfb",
   "metadata": {},
   "source": [
    "## Translation"
   ]
  },
  {
   "cell_type": "code",
   "execution_count": null,
   "id": "1573c075",
   "metadata": {},
   "outputs": [],
   "source": [
    "pcd_mv = copy.deepcopy(pcd).translate((1, 1.5, 0.5), relative=False)\n",
    "o3d.visualization.draw_geometries([pcd, pcd_mv])\n"
   ]
  },
  {
   "cell_type": "markdown",
   "id": "c2f2c2f5",
   "metadata": {},
   "source": [
    "## Rotation"
   ]
  },
  {
   "cell_type": "code",
   "execution_count": null,
   "id": "17d5d3d2",
   "metadata": {},
   "outputs": [],
   "source": [
    "pcd_r = copy.deepcopy(pcd).translate((0.5, 0, 0))\n",
    "pcd_r.rotate(\n",
    "    pcd.get_rotation_matrix_from_xyz((np.pi / 2, 0, np.pi / 4)), center=(0, 0, 0)\n",
    ")\n",
    "o3d.visualization.draw_geometries([pcd, pcd_r])\n"
   ]
  },
  {
   "cell_type": "markdown",
   "id": "e18e9067",
   "metadata": {},
   "source": [
    "## Scaling"
   ]
  },
  {
   "cell_type": "code",
   "execution_count": null,
   "id": "a6f7f128",
   "metadata": {},
   "outputs": [],
   "source": [
    "pcd_s = copy.deepcopy(pcd).translate((0.5, 1, 0))\n",
    "pcd_s.scale(0.5, center=(0, 0, 0))\n",
    "o3d.visualization.draw_geometries([pcd, pcd_s])\n"
   ]
  },
  {
   "cell_type": "markdown",
   "id": "fd77ab48",
   "metadata": {},
   "source": [
    "## Save the Point Cloud"
   ]
  },
  {
   "cell_type": "code",
   "execution_count": null,
   "id": "9a5c144c",
   "metadata": {},
   "outputs": [],
   "source": [
    "create_directory('results/1/5')\n",
    "o3d.io.write_point_cloud(\"results/1/5/bunny.pcd\", pcd)"
   ]
  },
  {
   "cell_type": "code",
   "execution_count": null,
   "id": "0ed0a5bf",
   "metadata": {},
   "outputs": [],
   "source": [
    "pcd_n = o3d.io.read_point_cloud('results/1/5/bunny.pcd')\n",
    "o3d.visualization.draw_geometries([pcd_n])"
   ]
  },
  {
   "cell_type": "markdown",
   "id": "08f1e7f8",
   "metadata": {},
   "source": [
    "# 2. Transformations and representations"
   ]
  },
  {
   "cell_type": "markdown",
   "id": "4ac21287",
   "metadata": {},
   "source": [
    "## a) Euler angles\n",
    "1. Write a function that returns a rotation matrix given the angles $\\alpha$, $\\beta$, and $\\gamma$ in radians (X-Y-Z)\n",
    "\n",
    "2. Solve for angles using ```fsolve from scipy``` for three initializations of your choice and compare.\n",
    "$$M(\\alpha , \\beta ,\\gamma)=\\left[\\begin{array}{rrr}0.26200263 & -0.19674724 & 0.944799 \\\\0.21984631 & 0.96542533 & 0.14007684 \\\\\n",
    "    -0.93969262 & 0.17101007 & 0.29619813\\end{array}\\right] \n",
    "$$\n",
    "\n",
    "$$N(\\alpha , \\beta ,\\gamma)=\\left[\\begin{array}{rrr}0 & -0.173648178 &  0.984807753 \\\\0 & 0.984807753 & 0.173648178 \\\\\n",
    "    -1 & 0 & 0\\end{array}\\right] \n",
    "$$\n",
    "\n",
    "3. What is a Gimbal lock? \n",
    "\n",
    "4. Show an example where a Gimbal lock occurs and visualize the Gimbal lock on the given bunny point cloud. You have to show the above by **animation** (cube rotating along each axis one by one).\n",
    "    - *Hint: Use Open3D's non-blocking visualization and discretize the rotation to simulate the animation. For example, if you want to rotate by $30^{\\circ}$ around a particular axis, do in increments of $5^{\\circ}$ 6 times to make it look like an animation.*\n"
   ]
  },
  {
   "cell_type": "markdown",
   "id": "3b5c4283",
   "metadata": {},
   "source": [
    "## Defining the Matrices"
   ]
  },
  {
   "cell_type": "code",
   "execution_count": null,
   "id": "b0e5bb37",
   "metadata": {},
   "outputs": [],
   "source": [
    "mat1 = np.array([[0.26200263, -0.19674724, 0.944799], [0.21984631, 0.96542533, 0.14007684], [-0.93969262, 0.17101007, 0.29619813]])\n",
    "mat2 = np.array([[0, -0.173648178,  0.984807753], [0, 0.984807753, 0.173648178], [-1, 0, 0]])"
   ]
  },
  {
   "cell_type": "markdown",
   "id": "57824ee9",
   "metadata": {},
   "source": [
    "## Function to Get Rotation Matrix"
   ]
  },
  {
   "cell_type": "code",
   "execution_count": null,
   "id": "2e7db51f",
   "metadata": {},
   "outputs": [],
   "source": [
    "def rotation_matrix(alpha, beta, gamma):\n",
    "    Rx = np.array(\n",
    "        [\n",
    "            [1.0, 0.0, 0.0],\n",
    "            [0.0, np.cos(alpha), -np.sin(alpha)],\n",
    "            [0.0, np.sin(alpha), np.cos(alpha)],\n",
    "        ]\n",
    "    )\n",
    "    Ry = np.array(\n",
    "        [[np.cos(beta), 0.0, np.sin(beta)], [0.0, 1.0, 0.0], [-np.sin(beta), 0.0, np.cos(beta)]]\n",
    "    )\n",
    "    Rz = np.array(\n",
    "        [\n",
    "            [np.cos(gamma), -np.sin(gamma), 0.0],\n",
    "            [np.sin(gamma), np.cos(gamma), 0.0],\n",
    "            [0.0, 0.0, 1.0],\n",
    "        ]\n",
    "    )\n",
    "    rotation_mat = np.matmul(Rz, np.matmul(Ry, Rx))\n",
    "    return rotation_mat\n"
   ]
  },
  {
   "cell_type": "markdown",
   "id": "2bc5e92a",
   "metadata": {},
   "source": [
    "## Function to Solve for Angles given Matrix"
   ]
  },
  {
   "cell_type": "code",
   "execution_count": null,
   "id": "d62608aa",
   "metadata": {},
   "outputs": [],
   "source": [
    "def constraint(x):\n",
    "    mat = rotation_matrix(*x)\n",
    "    return np.dot(mat, [1.0, 0.0, 0.0]) - np.dot(cur_mat, [1.0, 0.0, 0.0])\n",
    "\n",
    "\n",
    "def solve(x0):\n",
    "    return fsolve(constraint, x0)\n"
   ]
  },
  {
   "cell_type": "markdown",
   "id": "b53e7fab",
   "metadata": {},
   "source": [
    "## Solving for the First Matrix"
   ]
  },
  {
   "cell_type": "code",
   "execution_count": null,
   "id": "4c9e1869",
   "metadata": {},
   "outputs": [],
   "source": [
    "cur_mat = mat1\n"
   ]
  },
  {
   "cell_type": "code",
   "execution_count": null,
   "id": "4ef935a7",
   "metadata": {},
   "outputs": [],
   "source": [
    "sol1 = solve([0.1, 0.1, np.pi / 3])\n",
    "print(sol1 * (180 / np.pi))\n",
    "print(rotation_matrix(*sol1) - cur_mat)\n"
   ]
  },
  {
   "cell_type": "code",
   "execution_count": null,
   "id": "598de70f",
   "metadata": {},
   "outputs": [],
   "source": [
    "sol2 = solve([0.001, np.pi / 4, 0.001])\n",
    "print(sol2 * (180 / np.pi))\n",
    "print(rotation_matrix(*sol2) - cur_mat)\n"
   ]
  },
  {
   "cell_type": "code",
   "execution_count": null,
   "id": "15a0fb8e",
   "metadata": {},
   "outputs": [],
   "source": [
    "sol3 = solve([0.0, np.pi / 2, 0.0])\n",
    "print(sol3 * (180 / np.pi))\n",
    "print(rotation_matrix(*sol3) - cur_mat)\n"
   ]
  },
  {
   "cell_type": "markdown",
   "id": "070c1f58",
   "metadata": {},
   "source": [
    "## Solving for the Second Matrix"
   ]
  },
  {
   "cell_type": "code",
   "execution_count": null,
   "id": "941fdb94",
   "metadata": {},
   "outputs": [],
   "source": [
    "cur_mat = mat2\n"
   ]
  },
  {
   "cell_type": "code",
   "execution_count": null,
   "id": "0a688018",
   "metadata": {},
   "outputs": [],
   "source": [
    "sol1 = solve([0.1, 0.1, np.pi / 3])\n",
    "print(sol1 * (180 / np.pi))\n",
    "print(rotation_matrix(*sol1) - cur_mat)\n"
   ]
  },
  {
   "cell_type": "code",
   "execution_count": null,
   "id": "4d194db8",
   "metadata": {},
   "outputs": [],
   "source": [
    "sol2 = solve([0.001, np.pi / 4, 0.001])\n",
    "print(sol2 * (180 / np.pi))\n",
    "print(rotation_matrix(*sol2) - cur_mat)\n"
   ]
  },
  {
   "cell_type": "code",
   "execution_count": null,
   "id": "17857e9e",
   "metadata": {},
   "outputs": [],
   "source": [
    "sol3 = solve([0.0, np.pi / 2, 0.0])\n",
    "print(sol3 * (180 / np.pi))\n",
    "print(rotation_matrix(*sol3) - cur_mat)\n"
   ]
  },
  {
   "cell_type": "markdown",
   "id": "81069e9f",
   "metadata": {},
   "source": [
    "## Gimbal Lock"
   ]
  },
  {
   "cell_type": "markdown",
   "id": "0652bca9",
   "metadata": {},
   "source": [
    "**Gimbal Lock**: Euler angles have a major deficiency, and that is, that it is possible, in some rotation sequences, to reach a situation where two of the three Euler angles cause rotation around the same axis of the object. In the case below, rotation around the x-axis becomes indistinguishable in its effect from rotation around the z-axis, so the z-and x-axis angles collapse into one transformation, and the rotation reduces from three degrees of freedom to two. This reduction in the number of degrees of freedom is called Gimbal lock.`"
   ]
  },
  {
   "cell_type": "markdown",
   "id": "e706980f",
   "metadata": {},
   "source": [
    "## Example of Gimbal Lock"
   ]
  },
  {
   "cell_type": "code",
   "execution_count": null,
   "id": "bb96a023",
   "metadata": {},
   "outputs": [],
   "source": [
    "x_angle = -0.2\n",
    "y_angle = -np.pi / 2\n",
    "z_angle = -0.2\n",
    "R1 = rotation_matrix(x_angle, y_angle, z_angle)\n",
    "print(R1)\n"
   ]
  },
  {
   "cell_type": "markdown",
   "id": "11858871",
   "metadata": {},
   "source": [
    "### Due to gimbal lock, we can add something to the x_angle and subtract the same value from z_angle to get the same result:"
   ]
  },
  {
   "cell_type": "code",
   "execution_count": null,
   "id": "c0af22fd",
   "metadata": {},
   "outputs": [],
   "source": [
    "R2 = rotation_matrix(x_angle + 0.1, y_angle, z_angle - 0.1)\n",
    "print(R2)\n",
    "print(np.allclose(R1, R2))\n"
   ]
  },
  {
   "cell_type": "markdown",
   "id": "581c9ddc",
   "metadata": {},
   "source": [
    "## Bunny Animation (x rotation, y rotation, z rotation)"
   ]
  },
  {
   "cell_type": "code",
   "execution_count": null,
   "id": "c42b991b",
   "metadata": {},
   "outputs": [],
   "source": [
    "def animation(x_angle, y_angle, z_angle):\n",
    "    source_raw = o3d.io.read_point_cloud(\"results/1/5/bunny.pcd\")\n",
    "    target_raw = o3d.io.read_point_cloud(\"results/1/5/bunny.pcd\")\n",
    "    \n",
    "    source = source_raw.voxel_down_sample(voxel_size=0.002)\n",
    "    target = target_raw.voxel_down_sample(voxel_size=0.002)\n",
    "    \n",
    "    aabb = source.get_axis_aligned_bounding_box()\n",
    "    aabb.color = (1, 0, 0)\n",
    "    obb = target.get_oriented_bounding_box()\n",
    "    obb.color = (0, 1, 0)\n",
    "    \n",
    "    target_transformation = rotation_matrix(1.371, -1.371, -1.571)\n",
    "    target_transformation = np.vstack([target_transformation, [0.0, 0.0, 0.0]])\n",
    "    target_transformation = np.hstack(\n",
    "        [target_transformation, np.array([[0.0], [0.0], [0.0], [1.0]])]\n",
    "    )\n",
    "\n",
    "    target.transform(target_transformation)\n",
    "    visualizer = o3d.visualization.Visualizer()\n",
    "    visualizer.create_window()\n",
    "    visualizer.add_geometry(source)\n",
    "    visualizer.add_geometry(target)\n",
    "    visualizer.add_geometry(aabb)\n",
    "    visualizer.add_geometry(obb)\n",
    "    icp_iteration = 500\n",
    "\n",
    "    for i in range(icp_iteration):\n",
    "        source_transformation = rotation_matrix(x_angle / icp_iteration, 0, 0)\n",
    "        source_transformation = np.vstack([source_transformation, [0.0, 0.0, 0.0]])\n",
    "        source_transformation = np.hstack(\n",
    "            [source_transformation, np.array([[0.0], [0.0], [0.0], [1.0]])]\n",
    "        )\n",
    "        source.transform(source_transformation)\n",
    "        visualizer.remove_geometry(aabb)\n",
    "        aabb = source.get_axis_aligned_bounding_box()\n",
    "        aabb.color = (1, 0, 0)\n",
    "        visualizer.add_geometry(aabb)\n",
    "        visualizer.update_geometry(source)\n",
    "        visualizer.poll_events()\n",
    "        visualizer.update_renderer()\n",
    "    for i in range(icp_iteration):\n",
    "        source_transformation = rotation_matrix(0, y_angle / icp_iteration, 0)\n",
    "        source_transformation = np.vstack([source_transformation, [0.0, 0.0, 0.0]])\n",
    "        source_transformation = np.hstack(\n",
    "            [source_transformation, np.array([[0.0], [0.0], [0.0], [1.0]])]\n",
    "        )\n",
    "        source.transform(source_transformation)\n",
    "        visualizer.remove_geometry(aabb)\n",
    "        aabb = source.get_axis_aligned_bounding_box()\n",
    "        aabb.color = (1, 0, 0)\n",
    "        visualizer.add_geometry(aabb)\n",
    "        visualizer.update_geometry(source)\n",
    "        visualizer.poll_events()\n",
    "        visualizer.update_renderer()\n",
    "    for i in range(icp_iteration):\n",
    "        source_transformation = rotation_matrix(0, 0, z_angle / icp_iteration)\n",
    "        source_transformation = np.vstack([source_transformation, [0.0, 0.0, 0.0]])\n",
    "        source_transformation = np.hstack(\n",
    "            [source_transformation, np.array([[0.0], [0.0], [0.0], [1.0]])]\n",
    "        )\n",
    "        source.transform(source_transformation)\n",
    "        visualizer.remove_geometry(aabb)\n",
    "        aabb = source.get_axis_aligned_bounding_box()\n",
    "        aabb.color = (1, 0, 0)\n",
    "        visualizer.add_geometry(aabb)\n",
    "        visualizer.update_geometry(source)\n",
    "        visualizer.poll_events()\n",
    "        visualizer.update_renderer()\n",
    "    visualizer.destroy_window()\n"
   ]
  },
  {
   "cell_type": "code",
   "execution_count": null,
   "id": "08efbe35",
   "metadata": {},
   "outputs": [],
   "source": [
    "x_angle = -0.2\n",
    "y_angle = -np.pi / 2\n",
    "z_angle = -0.2\n",
    "\n",
    "rotation_matrix(1.371, -1.371, -1.571)\n",
    "animation(x_angle, y_angle, z_angle)\n"
   ]
  },
  {
   "cell_type": "markdown",
   "id": "8d6a0aef",
   "metadata": {},
   "source": [
    "### Due to the gimbal lock, the x-axis will get aligned with the z-axis. So, the rotation around the z-axis will have exactly the same effect as adding an extra rotation around the xx axis at the beginning and the bunny will not come to its target position. But bunny can come to its target position if we do the following rotations or change the order of y and z rotations."
   ]
  },
  {
   "cell_type": "code",
   "execution_count": null,
   "id": "a5fc96ed",
   "metadata": {},
   "outputs": [],
   "source": [
    "x_angle = np.pi / 2 - 0.2\n",
    "y_angle = -np.pi / 2 + 0.2\n",
    "z_angle = -np.pi / 2\n",
    "\n",
    "rotation_matrix(x_angle, y_angle, z_angle)\n",
    "animation(x_angle, y_angle, z_angle)"
   ]
  },
  {
   "cell_type": "markdown",
   "id": "5bbccc3e",
   "metadata": {},
   "source": [
    "## b) Quaternions\n",
    "\n",
    "1. What makes Quaternions popular in graphics? \n",
    "2. Convert a rotation matrix to quaternion and vice versa. Do not use inbuilt libraries for this question.\n",
    "3. Perform matrix multiplication of two $\\mathcal{R}_{3 \\times 3}$ rotation matrices and perform the same transformation in the quaternion space. Verify if the final transformation obtained in both the cases are the same.\n",
    "4. Try to interpolate any 3D model (cube / bunny / not sphere obviously!!) between two rotation matrices and visualize!\n",
    "\n",
    "The above questions require you to **code your own functions** and **only verify** using inbuilt functions.\n",
    "\n",
    "## Solutions\n",
    "Ans 1. Quaternions are popular in graphics because it allows a character to rotate about multiple axis simultaneously, instead of sequentially as matrix rotation allows. For example, to rotate 45 degrees about the xy-axis using matrix rotations, the character must first rotate about the x-axis and then rotate about the y-axis. With quaternions this sequential process is not necessary.\n",
    "Quaternions are preferred because:\n",
    "1. Matrix rotations suffer from Gimbal Lock.\n",
    "2. Quaternions consume less memory and are faster to compute than matrices.\n"
   ]
  },
  {
   "cell_type": "code",
   "execution_count": null,
   "id": "f45d97ab",
   "metadata": {},
   "outputs": [],
   "source": [
    "# Converting rotation matrix to Quaternion\n",
    "import math \n",
    "def SetQuaterions(x,y,z,w,t):\n",
    "    Q=[]\n",
    "    Q.append((x*0.5)/math.sqrt(t));\n",
    "    Q.append((y*0.5)/math.sqrt(t));\n",
    "    Q.append((z*0.5)/math.sqrt(t));\n",
    "    Q.append((w*0.5)/math.sqrt(t));\n",
    "    return Q\n",
    "    \n",
    "def RotationToQuaternions(M):\n",
    "    Q1 = []\n",
    "    if M[2][2] < 0:\n",
    "        if M[0][0] > M[1][1]:\n",
    "            t=1+M[0][0]-M[1][1]-M[2][2]\n",
    "            return SetQuaterions(t,M[0][1]+M[1][0],M[2][0]+M[0][2],M[1][2]-M[2][1],t)\n",
    "        else: \n",
    "            t=1-M[0][0]+M[1][1]-M[2][2]\n",
    "            return SetQuaterions(M[0][1]+M[1][0],t,M[1][2]+M[2][1],M[2][0]-M[0][2],t)\n",
    "    else:\n",
    "        if M[0][0] < -M[1][1]:\n",
    "            t=1-M[0][0]-M[1][1]+M[2][2]\n",
    "            return SetQuaterions(M[2][0]+M[0][2],M[1][2]+M[2][1],t,M[0][1]-M[1][0],t)\n",
    "        else:\n",
    "            t=1+M[0][0]+M[1][1]+M[2][2]\n",
    "            return SetQuaterions(M[1][2]-M[2][1],M[2][0]-M[0][2],M[0][1]-M[1][0],t,t)\n",
    "# verify above \n",
    "from scipy.spatial.transform import Rotation as R\n",
    "M = [[0, -1, 0],\n",
    "                   [1, 0, 0],\n",
    "                   [0, 0, 1]]\n",
    "M1 = [[0, 1, 0],\n",
    "                   [-1, 0, 0],\n",
    "                   [0, 0, 1]]\n",
    "r = R.from_matrix(M)\n",
    "u=r.as_quat()\n",
    "print(r.as_quat())\n",
    "print(RotationToQuaternions(M1))\n",
    "# Quaranterian representation is x,y,z,w"
   ]
  },
  {
   "cell_type": "code",
   "execution_count": null,
   "id": "2c573ec2",
   "metadata": {},
   "outputs": [],
   "source": [
    "# Convert Quaterions to rotation matrix\n",
    "\n",
    "\n",
    "def quaternion_rotation_matrix(Q):\n",
    "\n",
    "    # Extract the values from Q\n",
    "    qw = Q[0]\n",
    "    qx = Q[1]\n",
    "    qy = Q[2]\n",
    "    qz = Q[3]\n",
    "\n",
    "    # First row of the rotation matrix\n",
    "    r00 = -2 * (qy * qy + qz * qz) + 1\n",
    "    r01 = 2 * (qx * qy - qz * qw)\n",
    "    r02 = 2 * (qx * qz + qy * qw)\n",
    "\n",
    "    # Second row of the rotation matrix\n",
    "    r10 = 2 * (qx * qy + qz * qw)\n",
    "    r11 = -2 * (qx * qx + qz * qz) + 1\n",
    "    r12 = 2 * (qy * qz - qx * qw)\n",
    "\n",
    "    # Third row of the rotation matrix\n",
    "    r20 = 2 * (qx * qz - qy * qw)\n",
    "    r21 = 2 * (qy * qz + qx * qw)\n",
    "    r22 = -2 * (qx * qx + qy * qy) + 1\n",
    "\n",
    "    # 3x3 rotation matrix\n",
    "    rot_matrix = np.array([[r00, r01, r02], [r10, r11, r12], [r20, r21, r22]])\n",
    "\n",
    "    return rot_matrix\n"
   ]
  },
  {
   "cell_type": "code",
   "execution_count": null,
   "id": "d3958598",
   "metadata": {},
   "outputs": [],
   "source": [
    "# matrix multiplication R3x3\n",
    "def MultiplyAB(A,B):\n",
    "    result = [[0]*len(B[0])]*len(A)\n",
    "    for i in range(len(A)):\n",
    "        # iterating by column by B\n",
    "        for j in range(len(B[0])):\n",
    "            # iterating by rows of B\n",
    "            for k in range(len(B)):\n",
    "                result[i][j] += A[i][k] * B[k][j]\n",
    "    return result\n",
    "\n",
    "# Quaterian multiply\n",
    "def quaternion_multiply(quaternion1, quaternion0):\n",
    "    \n",
    "    x0, y0, z0, w0 = quaternion0\n",
    "    x1, y1, z1, w1 = quaternion1\n",
    "    return np.array([-x1 * x0 - y1 * y0 - z1 * z0 + w1 * w0,\n",
    "                     x1 * w0 + y1 * z0 - z1 * y0 + w1 * x0,\n",
    "                     -x1 * z0 + y1 * w0 + z1 * x0 + w1 * y0,\n",
    "                     x1 * y0 - y1 * x0 + z1 * w0 + w1 * z0], dtype=np.float64)"
   ]
  },
  {
   "cell_type": "code",
   "execution_count": null,
   "id": "df216d04",
   "metadata": {},
   "outputs": [],
   "source": []
  },
  {
   "cell_type": "markdown",
   "id": "62a4dd96",
   "metadata": {},
   "source": [
    "## c) Exponential maps (Bonus)\n",
    "\n",
    "1. What is the idea behind exponential map representation of rotation matrices?\n",
    "2. Perform matrix exponentiation and obtain the rotation matrix to rotate a vector $P$ around $\\omega$ for $\\theta$ seconds.\n",
    "$$\n",
    "\\omega = \\begin{bmatrix}2 \\\\ 1 \\\\ 15 \\end{bmatrix}\n",
    "$$\n",
    "\n",
    "$$\n",
    "\\theta = 4.1364\n",
    "$$\n",
    "\n",
    "3. Compute the logarithmic map (SO(3) to so(3)) of the rotation matrix to obtain the rotation vector and the angle of rotation\n",
    "$$\n",
    "\\begin{bmatrix}\n",
    "0.1 &  -0.9487 & 0.3 \\\\\n",
    "0.9487 & 0.  & -0.3162 \\\\\n",
    "0.3   &  0.3162  & 0.9 \n",
    "\\end{bmatrix}\n",
    "$$\n",
    "You can use inbuilt libraries **only to verify** your results."
   ]
  },
  {
   "cell_type": "markdown",
   "id": "a71ef7d6",
   "metadata": {},
   "source": [
    "## Idea Behind Exponential Maps"
   ]
  },
  {
   "cell_type": "markdown",
   "id": "513e2ec4",
   "metadata": {},
   "source": [
    "**Any rotation about the origin can be expressed in terms of the axis of rotation and the angle of rotation with the exponential map.**"
   ]
  },
  {
   "cell_type": "markdown",
   "id": "00add3b2",
   "metadata": {},
   "source": [
    "## Matrix Exponentiation"
   ]
  },
  {
   "cell_type": "code",
   "execution_count": null,
   "id": "ef316415",
   "metadata": {},
   "outputs": [],
   "source": [
    "def matrix_exponentiation(w, theta):\n",
    "    norm = np.linalg.norm(w)\n",
    "    w_cap = (\n",
    "        np.array(\n",
    "            [[0, -w[2][0], w[1][0]], [w[2][0], 0, -w[0][0]], [-w[1][0], w[0][0], 0]]\n",
    "        )\n",
    "        / norm\n",
    "    )\n",
    "\n",
    "    w_cap = theta * w_cap\n",
    "    cur_w = np.identity(3)\n",
    "    R = np.identity(3)\n",
    "    cur_div = 1\n",
    "    for i in range(1, 1000):\n",
    "        cur_w = np.dot(cur_w, w_cap)\n",
    "        cur_div /= i\n",
    "        R += np.dot(cur_w, cur_div)\n",
    "    return R\n",
    "\n",
    "R = matrix_exponentiation([[2], [1], [15]], 4.1364)\n",
    "print(R)\n"
   ]
  },
  {
   "cell_type": "markdown",
   "id": "46cafae9",
   "metadata": {},
   "source": [
    "## Logarithmic Map"
   ]
  },
  {
   "cell_type": "code",
   "execution_count": null,
   "id": "cfbd1b64",
   "metadata": {},
   "outputs": [],
   "source": [
    "rot_mat = np.array([[0.1, -0.9487, 0.3], [0.9487, 0, -0.3162], [0.3, 0.3162, 0.9]])\n",
    "\n",
    "def theta_and_axis(R):\n",
    "    theta = np.arccos((R[0][0] + R[1][1] + R[2][2] - 1) / 2)\n",
    "    axis_of_rot = np.array([[R[2][1] - R[1][2]], [R[0][2] - R[2][0]], [R[1][0] - R[0][1]]]) / (2 * np.sin(theta))\n",
    "    return theta, axis_of_rot\n",
    "theta, axis = theta_and_axis(rot_mat)\n",
    "print(theta, axis.T)"
   ]
  },
  {
   "cell_type": "markdown",
   "id": "b8943245",
   "metadata": {},
   "source": [
    "# 3. Data representations"
   ]
  },
  {
   "cell_type": "markdown",
   "id": "e3a79f89",
   "metadata": {},
   "source": [
    "## a) Octomaps\n",
    "\n",
    "1. Why is an Octomap memory efficient?\n",
    "2. When do we update an Octomap and why?\n",
    "3. When would you likely use an octomap instead of a point cloud?\n",
    " \n",
    " \n",
    "## Solutions:\n",
    "Ans 1. \n",
    "\n",
    "* Octomap is an open source framework that creates 3D occupancy grids (based on the octree data structure) with robotics and mapping techniques written in C++. It combines individual points to produce an ideally compressed occupancy map with the least amount of memory use.\n",
    "\n",
    "* Octomap is a volumetric 3D environment containing unknown and free zones, as well as a probabilistic occupancy estimate for the 3D grid map. The environment is reduced to only a few bits per child node while retaining the essential distinction between occupied, unoccupied, and unknown cells, decreasing the amount of memory required. The technique for the same limitations for volume confidence to ensure a lossless compression method while reducing memory consumption considerably. As a result, octomap saves memory.\n",
    "\n",
    "* According to the octree data structure, we only expand the data to the partially occupied node(into 8 childs) (or we could say partially unoccupied). We don't create children for nodes that have a strong belief in being entirely occupied or a high believe in being totally vacant. Giving a data structure that is memory efficient and allows for a compact memory representation and multi-resolution map searches.\n",
    "\n",
    "Ans 2. \n",
    "\n",
    "* We can keep updating the map with new sensor readings, however the initial point clouds aren't preserved (but can be stored). Because of the noise inherent in the monitoring of the environment, a given box may be identified as \"occupied\" in one block and \"unoccupied\" in another. \"Occupied\" is more frequently used; \"unemployed\" is more frequently used. It might be related to the space's dynamic characteristics (e.g., removing the table), but it could also be due to noise (most of the time).\n",
    "* At any time, new data or sensor readings can be uploaded. Modeling and updating are done probabilistically. Sensor noise or readings, for example, might occur as a result of dynamic objects arising from dynamic environmental changes.\n",
    "\n",
    "* Furthermore, several robots can work on the same map and expand the previous map while exploring new places. We just search and update the node for storage reduction and environmental or node information if we find a partially-occupied cell.\n",
    "\n",
    "Ans 3.\n",
    "* OctoMap is an open-source Octree framework that is known for its memory efficiency for representing 3D environments. However, the map format for point clouds is not compact. Point cloud maps include a lot of unnecessary information and are typically very big, resulting in a large pcd file. One 640 by 480 picture creates 300,000 points, which takes up a lot of space when it comes to recording finer details like patterns and wrinkles on the carpet.\n",
    "* A point cloud is insufficient to deal with overlap. When we create a point cloud, we instantly put together the estimated position. If the posture is incorrect, the map will visibly overlap. A computer screen, for example, has become two and the original border has become a polygon. It is necessary to improve the treatment of the overlapping region.\n",
    "* Since OctoMap is a 3D occupancy grid mapping and may be used for flying robots' 3D route schemes and various robots equipped with handlers, point cloud cannot be utilised for robot navigation."
   ]
  },
  {
   "cell_type": "code",
   "execution_count": null,
   "id": "dabcaa63",
   "metadata": {},
   "outputs": [],
   "source": []
  },
  {
   "cell_type": "markdown",
   "id": "f415cb1f",
   "metadata": {},
   "source": [
    "## b) Signed Distance Functions\n",
    "\n",
    "1. How do we determine object surfaces using SDF?\n",
    "2. How do we aggregate views from multiple cameras? (just a general overview is fine)\n",
    "3. Which preserves details better? Voxels or SDF? Why?\n",
    "4. What’s an advantage of SDF over a point cloud?\n"
   ]
  },
  {
   "cell_type": "markdown",
   "id": "d796cd88",
   "metadata": {},
   "source": [
    "Ans 3: Signed distance function preserves details better because in case of Voxels, with only the occupancy value at each grid we have to place the surface at the center of each edge and the resulting shape is very wavy and difficult to understand."
   ]
  },
  {
   "cell_type": "code",
   "execution_count": null,
   "id": "f22f4550",
   "metadata": {},
   "outputs": [],
   "source": []
  },
  {
   "cell_type": "markdown",
   "id": "46cc3579",
   "metadata": {},
   "source": [
    "# References and Resources\n",
    "\n",
    "1. Gimbal locks and quaternions: https://youtu.be/YF5ZUlKxSgE\n",
    "2. Exponential map: \n",
    "    1. 3 Blue 1 Brown: https://youtu.be/O85OWBJ2ayo\n",
    "    2. Northwestern Robotics: https://youtu.be/v_KBHaG0mas\n",
    "3. Bunny ply is taken from: http://graphics.im.ntu.edu.tw/~robin/courses/cg03/model/"
   ]
  }
 ],
 "metadata": {
  "kernelspec": {
   "display_name": "Python 3 (ipykernel)",
   "language": "python",
   "name": "python3"
  },
  "language_info": {
   "codemirror_mode": {
    "name": "ipython",
    "version": 3
   },
   "file_extension": ".py",
   "mimetype": "text/x-python",
   "name": "python",
   "nbconvert_exporter": "python",
   "pygments_lexer": "ipython3",
   "version": "3.8.8"
  }
 },
 "nbformat": 4,
 "nbformat_minor": 5
}
