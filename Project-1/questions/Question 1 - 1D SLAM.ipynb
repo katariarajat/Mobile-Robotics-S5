{
 "cells": [
  {
   "cell_type": "markdown",
   "metadata": {},
   "source": [
    "# Question 1:  Pose Graph Optimization for 1D SLAM"
   ]
  },
  {
   "cell_type": "markdown",
   "metadata": {},
   "source": [
    "A solved example for 1D SLAM which optimizes for pose variables using weighted least squares method (Gauss Newton) has been explained in the class. You can view it at `examples/1D-SLAM.ipynb`. Your first task is to code this from scratch.\n",
    "\n",
    "For this section, you have to calculate Jacobian analytically yourself and use it. However, you can check how correct it is using `jax`'s `jacobian`. Its usage is explained in the supplementary notebook (`examples/`)."
   ]
  },
  {
   "cell_type": "markdown",
   "metadata": {},
   "source": [
    "## How to get started?\n",
    "\n",
    "1. Go through the example and understand the optimization procedure.\n",
    "2. Generate the data as in the example.\n",
    "3. Write the derivatives of the function with respect to the constraints\n",
    "4. Create the final jacobian and write the update steps using Gauss Newton\n",
    "\n",
    "This tiny example will help make sense of the next question, as it's largely just an extension of this."
   ]
  },
  {
   "cell_type": "markdown",
   "metadata": {},
   "source": [
    "Finally, plot the loop closure constraint, poses, and error at every iteration as well. Since this is a one dimensional example, you can just assume x = y."
   ]
  },
  {
   "cell_type": "code",
   "execution_count": 115,
   "metadata": {},
   "outputs": [],
   "source": [
    "# Given Data \n",
    "U_Ground_Truth = [1, 1, 1, -3, 0]\n",
    "\n",
    "\n",
    "# Information matrix As found in the pdf \n",
    "Information_Matrix = jnp.array([\n",
    "    [100, 0, 0, 0, 0, 0],\n",
    "    [0, 100, 0, 0, 0, 0],\n",
    "    [0, 0, 100, 0, 0, 0],\n",
    "    [0, 0, 0, 100, 0, 0],\n",
    "    [0, 0, 0, 0, 100, 0],\n",
    "    [0, 0, 0, 0, 0, 1000]\n",
    "])\n",
    "U_Observed = [1.1, 1.0, 1.1, -2.7, 0]\n",
    "#Jacobian\n",
    "Analytical_Jacobian = jnp.array([\n",
    "    [1, 0, 0, 0, 1, 1],\n",
    "        [-1, 1, 0, 0, 0,0],\n",
    "        [0, -1, 1, 0, 0,0],\n",
    "        [0, 0, -1, 1, 0,0],\n",
    "        [0, 0, 0, -1, -1,0],\n",
    "])\n",
    "\n",
    "Analytical_Jacobian = Analytical_Jacobian.T\n",
    "\n",
    "\n",
    "\n",
    "# code \n",
    "\n",
    "import os\n",
    "import math\n",
    "import numpy as np\n",
    "import matplotlib.pyplot as plt\n",
    "import jax.numpy as jnp\n",
    "from jax import jacfwd"
   ]
  },
  {
   "cell_type": "code",
   "execution_count": 116,
   "metadata": {},
   "outputs": [
    {
     "name": "stdout",
     "output_type": "stream",
     "text": [
      "U_Ground_Truth :  [1.0, 1.0, 1.0, -3.0, 0.0]\n",
      "U_Observed :  [1.1, 1.0, 1.1, -2.7, 0.0]\n",
      "X_Ground_Truth :  [0.0, 1.0, 2.0, 3.0, 0.0]\n",
      "X_Observed_measured :  [0.0, 1.1, 2.1, 3.2, 0.5]\n"
     ]
    }
   ],
   "source": [
    "\n",
    "\n",
    "\n",
    "def XGT_XOM(U_Ground_Truth,U_Observed):\n",
    "    X_Ground_Truth = [0.0]\n",
    "    X_Observed_measured = [0.0]\n",
    "    for i in range(4):\n",
    "        X_Ground_Truth.append(U_Ground_Truth[i]+X_Ground_Truth[i])\n",
    "        X_Observed_measured.append(U_Observed[i]+X_Observed_measured[i])\n",
    "    return X_Ground_Truth, X_Observed_measured\n",
    "\n",
    "X_Ground_Truth, X_Observed_measured = XGT_XOM(U_Ground_Truth,U_Observed)\n",
    "\n",
    "print(\"U_Ground_Truth : \" , U_Ground_Truth)\n",
    "print(\"U_Observed : \" , U_Observed)\n",
    "print(\"X_Ground_Truth : \" , X_Ground_Truth)\n",
    "print(\"X_Observed_measured : \" , X_Observed_measured)"
   ]
  },
  {
   "cell_type": "code",
   "execution_count": 117,
   "metadata": {},
   "outputs": [
    {
     "name": "stdout",
     "output_type": "stream",
     "text": [
      "Analytical_Jacobian: \n",
      " [[ 1 -1  0  0  0]\n",
      " [ 0  1 -1  0  0]\n",
      " [ 0  0  1 -1  0]\n",
      " [ 0  0  0  1 -1]\n",
      " [ 1  0  0  0 -1]\n",
      " [ 1  0  0  0  0]]\n",
      "Jax_Jacobian : \n",
      " [[ 1. -1.  0.  0.  0.]\n",
      " [ 0.  1. -1.  0.  0.]\n",
      " [ 0.  0.  1. -1.  0.]\n",
      " [ 0.  0.  0.  1. -1.]\n",
      " [ 1.  0.  0.  0. -1.]\n",
      " [ 1.  0.  0.  0.  0.]]\n"
     ]
    }
   ],
   "source": [
    "\n",
    "print(\"Analytical_Jacobian: \\n\", Analytical_Jacobian)\n",
    "\n",
    "# Jacobian using jax\n",
    "def residual(X):\n",
    "    global U_Observed\n",
    "    \n",
    "    res = [(X[i]+U_Observed[i]-X[i+1]) for i in range(4)]\n",
    "    k = X[0]-X[4]+U_Observed[4]\n",
    "    res.append(k)\n",
    "    k = X[0]\n",
    "    res.append(k)\n",
    "    return jnp.array(res)\n",
    "\n",
    "Vec_r = lambda X: residual(X)\n",
    "Jax_Jacobian = jnp.array(jacfwd(Vec_r)(X_Observed_measured)).T\n",
    "print(\"Jax_Jacobian : \\n\", Jax_Jacobian)"
   ]
  },
  {
   "cell_type": "code",
   "execution_count": 118,
   "metadata": {
    "scrolled": true
   },
   "outputs": [
    {
     "name": "stdout",
     "output_type": "stream",
     "text": [
      "Analytical :\n",
      "\n",
      "Initial X : \n",
      " [0.  1.1 2.1 3.2 0.5]\n",
      "Final :\n",
      "[6.2584854e-10 1.0000000e+00 1.9000000e+00 2.9000001e+00 1.0000000e-01]\n",
      "\n",
      "Jax :\n",
      "\n",
      "Initial X : \n",
      " [0.  1.1 2.1 3.2 0.5]\n",
      "Final :\n",
      "[-3.2782602e-10  1.0000000e+00  1.9000000e+00  2.9000001e+00\n",
      "  1.0000000e-01]\n"
     ]
    }
   ],
   "source": [
    "# Gauss Newton Optimization for X_analytics\n",
    "\n",
    "def gauss_newton_optimization(jacobian ,def_iter=10):\n",
    "    global Information_Matrix, X_Observed_measured, U_Observed\n",
    "    H = -jnp.linalg.inv(jacobian.T @ Information_Matrix @ jacobian)\n",
    "    \n",
    "    X = jnp.array(X_Observed_measured).reshape((1,-1))\n",
    "    X_list = [ X[0], ]\n",
    "    U = jnp.array(U_Observed).reshape((1,-1))\n",
    "    print(\"Initial X : \\n\",X[0])\n",
    "    i=0\n",
    "    while i<def_iter:\n",
    "        b = jacobian.T @ Information_Matrix.T @ residual(X[0])\n",
    "        b = b.reshape((-1,1))\n",
    "        i = i + 1\n",
    "        del_X = H @ b\n",
    "        X = X + del_X.reshape((1,-1))\n",
    "        X_list.append(X[0])\n",
    "    print(\"Final :\")\n",
    "    print(X[0])\n",
    "    return np.array(X_list)\n",
    "\n",
    "\n",
    "print(\"Analytical :\\n\")\n",
    "X_analytical = gauss_newton_optimization(Analytical_Jacobian )\n",
    "print(\"\\nJax :\\n\")\n",
    "X_jax = gauss_newton_optimization(Jax_Jacobian)\n"
   ]
  },
  {
   "cell_type": "code",
   "execution_count": 119,
   "metadata": {},
   "outputs": [
    {
     "data": {
      "image/png": "[encoded data removed]",
      "text/plain": [
       "<Figure size 432x288 with 1 Axes>"
      ]
     },
     "metadata": {
      "needs_background": "light"
     },
     "output_type": "display_data"
    }
   ],
   "source": [
    "# Plot \n",
    "\n",
    "\n",
    "lene = range(len(X_analytical))\n",
    "Val = (X_analytical[:,0]- X_analytical[:,4]+ U_Observed[4] )**2 \n",
    "plt.scatter(lene , Val , color='green', label='Analytical Jacobian',)\n",
    "\n",
    "plt.plot(lene,  Val , color='yellow', label='Analytical Jacobian',)\n",
    "plt.show()\n",
    "\n",
    "\n",
    "\n"
   ]
  },
  {
   "cell_type": "code",
   "execution_count": 120,
   "metadata": {},
   "outputs": [
    {
     "data": {
      "image/png": "[encoded data removed]",
      "text/plain": [
       "<Figure size 432x288 with 1 Axes>"
      ]
     },
     "metadata": {
      "needs_background": "light"
     },
     "output_type": "display_data"
    }
   ],
   "source": [
    "lene = range(len(X_jax))\n",
    "Val =  (X_jax[:,0] - X_jax[:,4]+ U_Observed[4])**2\n",
    "\n",
    "plt.scatter(lene, Val, color='green', label='Jax Jacobian',)\n",
    "plt.plot(lene, Val, color='yellow', label='Jax Jacobian',)\n",
    "plt.legend(loc='upper right')\n",
    "plt.show()"
   ]
  },
  {
   "cell_type": "code",
   "execution_count": 121,
   "metadata": {},
   "outputs": [
    {
     "data": {
      "image/png": "[encoded data removed]",
      "text/plain": [
       "<Figure size 432x288 with 1 Axes>"
      ]
     },
     "metadata": {
      "needs_background": "light"
     },
     "output_type": "display_data"
    }
   ],
   "source": [
    "# 'Gauss Newton Iteration vs Pose plot analytical)'\n",
    "ix = 0\n",
    "for idx in X_analytical:\n",
    "    plt.scatter(idx, [ix for _ in range(len(idx))], label='Analytical Jacobian',)\n",
    "    ix=ix+1\n",
    "plt.show()\n"
   ]
  },
  {
   "cell_type": "code",
   "execution_count": 122,
   "metadata": {},
   "outputs": [
    {
     "data": {
      "image/png": "[encoded data removed]",
      "text/plain": [
       "<Figure size 432x288 with 1 Axes>"
      ]
     },
     "metadata": {
      "needs_background": "light"
     },
     "output_type": "display_data"
    }
   ],
   "source": [
    "# 'Gauss Newton Iteration vs Pose plot Jax)'\n",
    "ix = 0\n",
    "for idx in X_jax:\n",
    "    plt.scatter(idx, [ix for _ in range(len(idx))],  label='Jax Jacobian',)\n",
    "    ix=ix+1\n",
    "plt.show()"
   ]
  },
  {
   "cell_type": "code",
   "execution_count": 123,
   "metadata": {},
   "outputs": [],
   "source": [
    "Err_Analytical = []\n",
    "for X in X_analytical:\n",
    "    fx = residual( X)\n",
    "    Err_Analytical.append(0.5 * fx.T @ Information_Matrix @ fx)\n",
    "\n",
    "Err_Jax = []\n",
    "for X in X_jax:\n",
    "    fx = residual( X)\n",
    "    Err_Jax.append(0.5 * fx.T @ Information_Matrix @ fx)\n"
   ]
  },
  {
   "cell_type": "code",
   "execution_count": 124,
   "metadata": {},
   "outputs": [
    {
     "data": {
      "image/png": "[encoded data removed]",
      "text/plain": [
       "<Figure size 432x288 with 1 Axes>"
      ]
     },
     "metadata": {
      "needs_background": "light"
     },
     "output_type": "display_data"
    }
   ],
   "source": [
    "plt.scatter(range(len(X_analytical)), Err_Analytical, color='green', label='Analytical Jacobian',)\n",
    "plt.plot(range(len(X_analytical)), Err_Analytical, color='yellow', label='Analytical Jacobian',)\n",
    "plt.legend(loc='upper right')\n",
    "plt.show()"
   ]
  },
  {
   "cell_type": "code",
   "execution_count": 125,
   "metadata": {},
   "outputs": [
    {
     "data": {
      "image/png": "[encoded data removed]",
      "text/plain": [
       "<Figure size 432x288 with 1 Axes>"
      ]
     },
     "metadata": {
      "needs_background": "light"
     },
     "output_type": "display_data"
    }
   ],
   "source": [
    "plt.scatter(range(len(X_jax)), Err_Jax, color='green', label='Jax Jacobian',)\n",
    "plt.plot(range(len(X_jax)), Err_Jax, color='yellow', label='Jax Jacobian',)\n",
    "plt.legend(loc='upper right')\n",
    "plt.show()"
   ]
  },
  {
   "cell_type": "code",
   "execution_count": null,
   "metadata": {},
   "outputs": [],
   "source": []
  },
  {
   "cell_type": "code",
   "execution_count": null,
   "metadata": {},
   "outputs": [],
   "source": []
  },
  {
   "cell_type": "code",
   "execution_count": null,
   "metadata": {},
   "outputs": [],
   "source": []
  },
  {
   "cell_type": "code",
   "execution_count": null,
   "metadata": {},
   "outputs": [],
   "source": []
  }
 ],
 "metadata": {
  "kernelspec": {
   "display_name": "Python 3",
   "language": "python",
   "name": "python3"
  },
  "language_info": {
   "codemirror_mode": {
    "name": "ipython",
    "version": 3
   },
   "file_extension": ".py",
   "mimetype": "text/x-python",
   "name": "python",
   "nbconvert_exporter": "python",
   "pygments_lexer": "ipython3",
   "version": "3.8.10"
  }
 },
 "nbformat": 4,
 "nbformat_minor": 5
}
