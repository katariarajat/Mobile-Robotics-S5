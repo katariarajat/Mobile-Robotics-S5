{
 "cells": [
  {
   "cell_type": "code",
   "execution_count": 2,
   "metadata": {},
   "outputs": [
    {
     "name": "stdout",
     "output_type": "stream",
     "text": [
      "Jupyter environment detected. Enabling Open3D WebVisualizer.\n",
      "[Open3D INFO] WebRTC GUI backend enabled.\n",
      "[Open3D INFO] WebRTCWindowSystem: HTTP handshake server disabled.\n"
     ]
    }
   ],
   "source": [
    "import open3d\n",
    "import numpy as np\n",
    "import util\n",
    "import matplotlib.pyplot as plt\n",
    "import math\n",
    "import random"
   ]
  },
  {
   "cell_type": "markdown",
   "metadata": {},
   "source": [
    "**1. Optimization**: You are given the function:  exp(a * x) * sin(x) + b. Implement Levenberg Marquadt using numpy and solve for the parameters of the above function. Optimize for the following parameters: a=2, b = 1. Do this for 50 observations that lie between 1 and 20. Plot the loss values over time and data fit curves. Ensure that your initial estimates are not very close to the final parameters. Write down the jacobian formula in the notebook. **\\[3 points\\]**"
   ]
  },
  {
   "cell_type": "markdown",
   "metadata": {},
   "source": [
    "## Jacobian Formula"
   ]
  },
  {
   "cell_type": "markdown",
   "metadata": {},
   "source": [
    "$$ \n",
    "       J = \\left[ -x*e^{-a*x}*sin(x) ;  1 \\right]\n",
    "$$ "
   ]
  },
  {
   "cell_type": "markdown",
   "metadata": {},
   "source": [
    "## Function "
   ]
  },
  {
   "cell_type": "code",
   "execution_count": null,
   "metadata": {},
   "outputs": [],
   "source": [
    "def make_gaussian(x,a,b):\n",
    "    d = np.exp(-a*x)*np.sin(x)+b\n",
    "    return d\n",
    "\n",
    "def da(x,a,b):\n",
    "    d = -x*np.exp(-a*x)*np.sin(x)\n",
    "    return d\n",
    "\n",
    "def db(x,a,b):\n",
    "    return np.linspace(1, 1, 50)\n",
    "\n",
    "def plot_ps(x, y, w, cost):\n",
    "    plt.subplot(121)\n",
    "    plt.plot(x, y, \"-\", label=\"Ground Truth\")\n",
    "    plt.plot(x, make_gaussian(x, *w), \"-o\", label=\"Predicted Value\")\n",
    "    plt.xlabel(\"x\")\n",
    "    plt.ylabel(\"y\")\n",
    "    plt.title(\"Actual vs. Predicted\")\n",
    "    plt.legend()\n",
    "    plt.subplot(122)\n",
    "    plt.plot(cost, \"-o\")\n",
    "    plt.title(\"Loss vs. Iterations\")\n",
    "    plt.xlabel(\"number of iterations\")\n",
    "    plt.ylabel(\"loss\")\n",
    "    plt.show()"
   ]
  },
  {
   "cell_type": "markdown",
   "metadata": {},
   "source": [
    "## Intialization"
   ]
  },
  {
   "cell_type": "code",
   "execution_count": null,
   "metadata": {},
   "outputs": [],
   "source": [
    "num_obs = 50\n",
    "a_gt = 2\n",
    "b_gt = 1\n",
    "x = np.linspace(1, 20, num_obs)\n",
    "y = make_gaussian(x, a_gt, b_gt)\n",
    "w = np.array([100,200]) # a,b \n",
    "lr = 0.01\n",
    "tol = 10 ** -100\n",
    "num_itre = 200"
   ]
  },
  {
   "cell_type": "markdown",
   "metadata": {},
   "source": [
    "## Iteration"
   ]
  },
  {
   "cell_type": "code",
   "execution_count": null,
   "metadata": {
    "scrolled": false
   },
   "outputs": [],
   "source": [
    "cost = []\n",
    "for iteration in range(num_itre):\n",
    "    r = make_gaussian(x, *w) - y\n",
    "    cost.append(sum(r ** 2))\n",
    "    J = np.vstack((da(x, *w), db(x, *w)))\n",
    "    dw = np.linalg.inv(J @ J.T + lr * np.identity(2)) @ J @ r \n",
    "    print(lr)\n",
    "    new_w = w - dw\n",
    "    new_r = make_gaussian(x, *new_w) - y\n",
    "    new_err = sum(new_r ** 2)\n",
    "    if new_err > cost[-1]:\n",
    "        lr *= 100\n",
    "    else:\n",
    "        lr /= 100\n",
    "        w = new_w\n",
    "    print(\"Sum Squared Error:\", cost[-1])\n",
    "    plot_ps(x, y, w, cost)\n",
    "    if np.linalg.norm(dw) <= tol:\n",
    "        break"
   ]
  },
  {
   "cell_type": "markdown",
   "metadata": {},
   "source": [
    "## Varying Learning Rate"
   ]
  },
  {
   "cell_type": "code",
   "execution_count": null,
   "metadata": {},
   "outputs": [],
   "source": [
    "for learning_rate in [0.001, 0.003, 0.01]:\n",
    "    cost = []\n",
    "    w = np.array([10, 13,])\n",
    "    for iteration in range(num_itre):\n",
    "        r = make_gaussian(x, *w) - y\n",
    "        cost.append(sum(r ** 2))\n",
    "        J = np.vstack((da(x, *w), db(x, *w)))\n",
    "        dw = np.linalg.inv(J @ J.T + learning_rate * np.identity(2)) @ J @ r \n",
    "        new_w = w - dw\n",
    "        new_r = make_gaussian(x, *new_w) - y\n",
    "        new_err = sum(new_r ** 2)\n",
    "        if new_err > cost[-1]:\n",
    "            learning_rate *= 10\n",
    "        else:\n",
    "            learning_rate /= 10\n",
    "            w = new_w\n",
    "        if np.linalg.norm(dw) <= tol:\n",
    "            break\n",
    "    print(\"Sum Squared Error:\", cost[-1])\n",
    "    plot_ps(x, y, w, cost)"
   ]
  },
  {
   "cell_type": "markdown",
   "metadata": {},
   "source": [
    "**2. Linear least square**: You are given a bin file from the Kitti raw sequence. Estimate the ground plane from the given bin file. After estimating the ground plane, visualize this in open3d by drawing 200-300 points on the ground with a different color on top of the plot obtained from the LiDAR scan. Use RANSAC to estimate the ground plane. Will this work without RANSAC? Why or Why not? Write down the equation of the ground plane obtained and also mention the parameters used for doing RANSAC  **\\[6 points\\]**\n",
    "\n",
    "Expected result is displayed here:\n",
    "\n",
    "![output](./data/groundplane.png)"
   ]
  },
  {
   "cell_type": "code",
   "execution_count": 3,
   "metadata": {},
   "outputs": [],
   "source": [
    "def read_bin_file(file_name):\n",
    "    '''\n",
    "    Read the bin file\n",
    "    '''\n",
    "    points = np.fromfile(file_name, dtype=np.float32).reshape(-1, 4)\n",
    "    points = points[:,:3]                # exclude reflectance values, becomes [X Y Z]\n",
    "    points = points[1::5,:]              # remove every 5th point for display speed (optional)\n",
    "    return points"
   ]
  },
  {
   "cell_type": "code",
   "execution_count": 4,
   "metadata": {},
   "outputs": [
    {
     "name": "stdout",
     "output_type": "stream",
     "text": [
      "[[77.28644   16.049189   2.8684492]\n",
      " [77.64033   17.796824   2.8922935]\n",
      " [76.04113   18.573856   2.8447719]\n",
      " ...\n",
      " [ 3.8057039 -1.5779376 -1.7775955]\n",
      " [ 3.8148482 -1.520616  -1.77264  ]\n",
      " [ 3.829741  -1.4582629 -1.7686896]]\n",
      "(24556, 3)\n"
     ]
    }
   ],
   "source": [
    "filename = \"./data/000013.bin\"\n",
    "points = read_bin_file(filename)\n",
    "print(points)\n",
    "print(points.shape)\n",
    "# Function used to visualize point clouds, takes a list of 3 x N numpy array as input and plots\n",
    "util.visualize_pointclouds([points.T])\n"
   ]
  },
  {
   "cell_type": "markdown",
   "metadata": {},
   "source": [
    "## Initilization"
   ]
  },
  {
   "cell_type": "code",
   "execution_count": 5,
   "metadata": {},
   "outputs": [],
   "source": [
    "Points = points\n",
    "Max_itr = 100\n",
    "dist_threshold = 1\n"
   ]
  },
  {
   "cell_type": "markdown",
   "metadata": {},
   "source": [
    "## Implementation"
   ]
  },
  {
   "cell_type": "code",
   "execution_count": 6,
   "metadata": {},
   "outputs": [],
   "source": [
    "def ransac_algorithm():\n",
    "    \n",
    "    ## global variale \n",
    "    global Points, Max_itr, dist_threshold\n",
    "    ground_points = []\n",
    "    Final_Ground_points = []\n",
    "    w = []\n",
    "#     print(Final_Ground_points)\n",
    "    while Max_itr:\n",
    "        random.seed()\n",
    "        \n",
    "        inliers = []\n",
    "        inliers.append(random.randint(0,len(Points)-1))\n",
    "        inliers.append(random.randint(0,len(Points)-1))\n",
    "        inliers.append(random.randint(0,len(Points)-1))\n",
    "\n",
    "        # x1,y1,z1 | x2,y2,z2 | x3,y3,z3 |\n",
    "        x1,y1,z1 = Points[inliers[0]]\n",
    "        x2,y2,z2 = Points[inliers[1]]\n",
    "        x3,y3,z3 = Points[inliers[2]]\n",
    "        \n",
    "        # Value of Constants for inlier plane\n",
    "        a = (y2 - y1)*(z3 - z1) - (z2 - z1)*(y3 - y1)\n",
    "        b = (z2 - z1)*(x3 - x1) - (x2 - x1)*(z3 - z1)\n",
    "        c = (x2 - x1)*(y3 - y1) - (y2 - y1)*(x3 - x1)\n",
    "        d = -(a*x1 + b*y1 + c*z1)\n",
    "        \n",
    "        #plane length\n",
    "        Plane = max(0.1, math.sqrt(a*a+b*b+c*c))\n",
    "        \n",
    "        # interating in points\n",
    "        for index in range(len(Points)):\n",
    "            if index in inliers:\n",
    "                continue\n",
    "            x4,y4,z4 = Points[index]\n",
    "            \n",
    "            # distance calculation\n",
    "            distance = math.fabs(a*x4 + b*y4 + c*z4 + d) / Plane\n",
    "            \n",
    "            if distance < dist_threshold:\n",
    "                inliers.append(index)\n",
    "            \n",
    "            if len(inliers) > len(ground_points):\n",
    "                ground_points.clear()\n",
    "                ground_points = inliers\n",
    "                w=[a,b,c,d]\n",
    "        \n",
    "#         for index in ground_points:\n",
    "# #             print(Points.shape)\n",
    "#             Final_Ground_points.append(np.array(Points[index]))\n",
    "        \n",
    "        \n",
    "        return w\n",
    "\n",
    "\n",
    "            \n",
    "            \n",
    "        "
   ]
  },
  {
   "cell_type": "code",
   "execution_count": 10,
   "metadata": {
    "scrolled": false
   },
   "outputs": [
    {
     "name": "stdout",
     "output_type": "stream",
     "text": [
      "[-1.425916, -3.444885, 121.65985, 205.07906]\n"
     ]
    },
    {
     "name": "stderr",
     "output_type": "stream",
     "text": [
      "<ipython-input-10-c97c0bf16af1>:31: DeprecationWarning: `np.int` is a deprecated alias for the builtin `int`. To silence this warning, use `int` by itself. Doing this will not modify any behavior and is safe. When replacing `np.int`, you may wish to use e.g. `np.int64` or `np.int32` to specify the precision. If you wish to review your current use, check the release note link for additional information.\n",
      "Deprecated in NumPy 1.20; for more details and guidance: https://numpy.org/devdocs/release/1.20.0-notes.html#deprecations\n",
      "  dtype=np.int\n"
     ]
    }
   ],
   "source": [
    "w = ransac_algorithm()\n",
    "\n",
    "print(w)\n",
    "x_min = np.amin(points,0)\n",
    "x_max = np.amax(points,0)\n",
    "# print(x_min,x_max)\n",
    "# y_min = np.amin(points,1)\n",
    "# y_max = np.amax(points,1)\n",
    "# print(np.linspace(x_min,x_max,200))\n",
    "pts = 50\n",
    "z_points = np.linspace(x_min[2],x_max[2],pts)\n",
    "y_points = np.linspace(x_min[1],x_max[1],pts)\n",
    "# print(z_points)\n",
    "# print(y_points)\n",
    "\n",
    "# z1_points = np.array(points[:, [2]])\n",
    "# y1_points = np.array(points[:, [1]])\n",
    "# print(z1_points)\n",
    "# print(y1_points)\n",
    "# print(points)\n",
    "# print(z_points)\n",
    "# print(y_points)pcd = \n",
    "x_points = []\n",
    "pcd = [np.array([0,0,0])]\n",
    "for z in z_points:\n",
    "#     print(z)\n",
    "    x = np.array(-w[3]-w[2]*z-w[1]*y_points) / w[0]\n",
    "    zz = np.full(\n",
    "      shape=pts,\n",
    "      fill_value=z,\n",
    "      dtype=np.int\n",
    "    )\n",
    "#     print(zz,x,y_points)\n",
    "    p = np.c_[x,y_points,zz]\n",
    "#     print(p,pcd)\n",
    "    pcd = np.append(pcd,p,0)\n",
    "#     pcd = np.concatenate(np.array(pcd),np.array(p),0)\n",
    "        \n",
    "    \n",
    "# print(z_points)\n",
    "# pcd = np.c_[x_points,y_points,z_points]\n",
    "\n",
    "# print(pcd)\n",
    "# print(points)\n",
    "\n",
    "util.visualize_pointclouds([np.array(points.T),np.array(pcd.T)])"
   ]
  },
  {
   "cell_type": "markdown",
   "metadata": {},
   "source": [
    "## Equation of Ground plane"
   ]
  },
  {
   "cell_type": "code",
   "execution_count": 11,
   "metadata": {},
   "outputs": [
    {
     "name": "stdout",
     "output_type": "stream",
     "text": [
      "-1.425916 x +  -3.444885 y +  121.65985 z +  205.07906  = 0\n"
     ]
    }
   ],
   "source": [
    "print(w[0],\"x + \",w[1],\"y + \",w[2],\"z + \",w[3],\" = 0\")"
   ]
  },
  {
   "cell_type": "markdown",
   "metadata": {},
   "source": [
    "## Q) Will this work without RANSAC?\n",
    "## Yes, it can work without using Ransac using ML with methods like linear regression and Nearest neighbour algorithms, As in there also we need to estimate the parameters given input values and need to fit the equation for that. For our case we have more number of points corresponding to ground so linear regression will fit equation of plane nearly to ground."
   ]
  },
  {
   "cell_type": "markdown",
   "metadata": {},
   "source": [
    "# Ransac parameters "
   ]
  },
  {
   "cell_type": "code",
   "execution_count": 12,
   "metadata": {},
   "outputs": [
    {
     "name": "stdout",
     "output_type": "stream",
     "text": [
      "MAX ITERATION =  100\n",
      "Distance Threshold =  1\n"
     ]
    }
   ],
   "source": [
    "print(\"MAX ITERATION = \",Max_itr)\n",
    "print(\"Distance Threshold = \", dist_threshold)"
   ]
  },
  {
   "cell_type": "code",
   "execution_count": null,
   "metadata": {},
   "outputs": [],
   "source": []
  }
 ],
 "metadata": {
  "kernelspec": {
   "display_name": "Python 3",
   "language": "python",
   "name": "python3"
  },
  "language_info": {
   "codemirror_mode": {
    "name": "ipython",
    "version": 3
   },
   "file_extension": ".py",
   "mimetype": "text/x-python",
   "name": "python",
   "nbconvert_exporter": "python",
   "pygments_lexer": "ipython3",
   "version": "3.8.10"
  }
 },
 "nbformat": 4,
 "nbformat_minor": 5
}
